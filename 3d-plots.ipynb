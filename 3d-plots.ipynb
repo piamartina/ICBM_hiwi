{
 "cells": [
  {
   "cell_type": "code",
   "execution_count": null,
   "metadata": {},
   "outputs": [],
   "source": [
    "# 3d-plots Lat-Lon-time, Lat-Lon-depth\n",
    "# pia goecke\n",
    "# 29.11.20224"
   ]
  },
  {
   "cell_type": "code",
   "execution_count": 1,
   "metadata": {},
   "outputs": [],
   "source": [
    "import pandas as pd\n",
    "import numpy as np\n",
    "import matplotlib.pyplot as plt\n",
    "from mpl_toolkits.mplot3d import Axes3D\n",
    "from scipy.interpolate import griddata\n",
    "import warnings\n",
    "warnings.filterwarnings(\"ignore\")\n",
    "import os\n"
   ]
  },
  {
   "cell_type": "code",
   "execution_count": 2,
   "metadata": {},
   "outputs": [],
   "source": [
    "%matplotlib qt"
   ]
  },
  {
   "cell_type": "code",
   "execution_count": 3,
   "metadata": {},
   "outputs": [],
   "source": [
    "#read data and rename cols\n",
    "os.chdir('C:/Users/piago/Documents/Uni/5_Semester/Hiwi')\n",
    "csv_file = \"C:/Users/piago/Documents/Uni/5_Semester/Hiwi/Data/HE614_All_Grids_Single_Sheet.xlsx\"\n",
    "\n",
    "# Read the Excel file\n",
    "df = pd.read_excel(csv_file, skiprows=10)\n",
    "df = df.set_index('Date_Time')\n",
    "df.index = pd.to_datetime(df.index)\n",
    "df.rename(columns={'CTD_Temperature_SML' : 'CTD_Temperature_1',\n",
    "                   'CTD_Temperature_30cm' : 'CTD_Temperature_30',\n",
    "                   'CTD_Temperature_40cm' : 'CTD_Temperature_40',\n",
    "                   'CTD_Temperature_50cm_[°C]' : 'CTD_Temperature_50',\n",
    "                   'CTD_Temperature_60cm_[°C]': 'CTD_Temperature_60',\n",
    "                   'CTD_Temperature_85cm' : 'CTD_Temperature_85',\n",
    "                   'CTD_Temperature_100cm' : 'CTD_Temperature_100',\n",
    "                   'RBR_Temperature_30cm' :  'RBR_Temperature_30',\n",
    "                   'RBR_Temperature_40cm' :  'RBR_Temperature_40',\n",
    "                   'RBR_Temperature_50cm' :  'RBR_Temperature_50',\n",
    "                   'RBR_Temperature_60cm' :  'RBR_Temperature_60',\n",
    "                   'RBR_Temperature_85cm' :  'RBR_Temperature_85',\n",
    "                   'RBR_Temperature_100cm' :  'RBR_Temperature_100'\n",
    "                   }, inplace= True)\n",
    "\n",
    "df['Date'] = df.index.date\n",
    "df_backup = df"
   ]
  },
  {
   "cell_type": "code",
   "execution_count": 4,
   "metadata": {},
   "outputs": [],
   "source": [
    "# extract dfs\n",
    "df_2 = df.loc['2023-03-02']\n",
    "df_2 = df_2[(df_2.index < '2023-03-02 09:48') | (df_2.index >= '2023-03-02 09:49')]\n",
    "\n",
    "df_3 = df.loc['2023-03-03']\n",
    "\n",
    "df_8 = df.loc['2023-03-08']\n",
    "df_8 = df_8[(df_8.index < '2023-03-08 09:19:10') | (df_8.index >= '2023-03-08 09:21:40')]\n",
    "\n",
    "\n",
    "df_9 = df.loc['2023-03-09']\n",
    "df_9.drop(df_9[df_9['CTD_Temperature_1']>6.2].index, inplace = True)\n",
    "\n",
    "\n",
    "df_10 = df.loc['2023-03-10']\n",
    "\n",
    "df_11 = df.loc['2023-03-11']\n",
    "\n",
    "df_17 = df.loc['2023-03-17']\n",
    "df_17 = df_17[df_17.index > '2023-03-17 08:03']\n",
    "\n",
    "df_18 = df.loc['2023-03-18']\n",
    "df_18 = df_18[df_18.index > '2023-03-18 07:50']\n",
    "\n",
    "df_19 = df.loc['2023-03-19']\n",
    "df_19 = df_19[(df_19.index < '2023-03-08 10:15:30') | (df_19.index >= '2023-03-19 10:16:20')]\n",
    "\n",
    "df_20 = df.loc['2023-03-20']\n",
    "\n",
    "\n",
    "all_df = [df_2, df_3, df_8, df_9, df_10, df_11, df_17, df_18, df_19, df_20]"
   ]
  },
  {
   "cell_type": "code",
   "execution_count": 5,
   "metadata": {},
   "outputs": [
    {
     "name": "stdout",
     "output_type": "stream",
     "text": [
      "Column CTD_Temperature_40cm_[°C] contains only NaN values. Creating nan-column for depth 40.\n",
      "mission 2023-03-02 detrended.\n",
      "Column CTD_Temperature_50cm_[°C] contains only NaN values. Creating nan-column for depth 50.\n",
      "mission 2023-03-09 detrended.\n",
      "Column CTD_Temperature_50cm_[°C] contains only NaN values. Creating nan-column for depth 50.\n",
      "mission 2023-03-17 detrended.\n"
     ]
    }
   ],
   "source": [
    "#Detrend CTD, RBR and Campbell Air temp where reasonable\n",
    "\n",
    "for df in [df_2, df_9, df_17]:\n",
    "    # time in total seconds\n",
    "    df['time_numeric'] = (df.index - df.index.min()).total_seconds()  \n",
    "\n",
    "    # fit polynomial with numpy.polyfit:  quadratic\n",
    "    coefficients = np.polyfit(df['time_numeric'], df['CTD_Temperature_1'], 2) # fit polynomial\n",
    "    polynomial = np.poly1d(coefficients) #create function\n",
    "    df[f'fitted_2_Temp_SML'] = polynomial(df['time_numeric']) #values\n",
    "    df[f'detrend_2_Temp_SML'] = df['CTD_Temperature_1'] - df[f'fitted_2_Temp_SML']\n",
    "    df[f'detrend_2_Temp_SML'] = df[f'detrend_2_Temp_SML'] + df[f'fitted_2_Temp_SML'].median()\n",
    "\n",
    "    # same for all depths\n",
    "    depths = [30, 40, 50, 60, 85, 100]\n",
    "\n",
    "    for d in depths:\n",
    "        if df[f'CTD_Temperature_{d}'].dropna().empty:\n",
    "            # If the column is empty (all NaNs), skip this depth\n",
    "            print(f\"Column CTD_Temperature_{d}cm_[°C] contains only NaN values. Creating nan-column for depth {d}.\")\n",
    "            df[f'detrend_2_Temp_{d}'] = np.nan\n",
    "\n",
    "        else:\n",
    "            coefficients = np.polyfit(df['time_numeric'], df[f'CTD_Temperature_{d}'], 2) # fit polynomial\n",
    "            polynomial = np.poly1d(coefficients) #create function\n",
    "            df[f'fitted_2_Temp_{d}'] = polynomial(df['time_numeric']) #values\n",
    "            df[f'detrend_2_Temp_{d}'] = df[f'CTD_Temperature_{d}'] - df[f'fitted_2_Temp_{d}']\n",
    "            df[f'detrend_2_Temp_{d}'] = df[f'detrend_2_Temp_{d}'] + df[f'fitted_2_Temp_{d}'].median()\n",
    "\n",
    "\n",
    "    # ... and same for airtemp\n",
    "    coefficients = np.polyfit(df['time_numeric'], df['Campbell_Air_Temperature'], 2) # fit polynomial\n",
    "    polynomial = np.poly1d(coefficients) #create function\n",
    "    df[f'fitted_2_Temp_Air'] = polynomial(df['time_numeric']) #values\n",
    "    df[f'Air_detrend_2_Temp'] = df['Campbell_Air_Temperature'] - df[f'fitted_2_Temp_Air']\n",
    "    df[f'Air_detrend_2_Temp'] = df[f'Air_detrend_2_Temp'] + df[f'fitted_2_Temp_Air'].median()\n",
    "\n",
    "    # ... and for RBRs\n",
    "    depths = [30, 40, 50, 60, 85, 100]\n",
    "    for d in depths:\n",
    "        if df[f'RBR_Temperature_{d}'].dropna().empty:\n",
    "            print(f\"Column RBR_Temperature_{d}cm is empty or contains only NaN values. creating nan-column for depth {d}.\")\n",
    "        else: \n",
    "            coefficients = np.polyfit(df['time_numeric'], df[f'RBR_Temperature_{d}'], 2) # fit polynomial\n",
    "            polynomial = np.poly1d(coefficients) #create function\n",
    "            df[f'rbr_fitted_2_Temp_{d}'] = polynomial(df['time_numeric']) #values\n",
    "            df[f'rbr_detrend_2_Temp_{d}'] = df[f'RBR_Temperature_{d}'] - df[f'rbr_fitted_2_Temp_{d}']\n",
    "            df[f'rbr_detrend_2_Temp_{d}'] = df[f'rbr_detrend_2_Temp_{d}'] + df[f'rbr_fitted_2_Temp_{d}'].median()\n",
    "\n",
    "    print(f'mission {str(df['Date'][0])} detrended.')"
   ]
  },
  {
   "cell_type": "code",
   "execution_count": 6,
   "metadata": {},
   "outputs": [],
   "source": [
    "df_9_1 = df_9[df_9['time_numeric'] < (df_9['time_numeric'].max()/2)]\n",
    "df_9_2 = df_9[df_9['time_numeric'] > (df_9['time_numeric'].max()/2)]"
   ]
  },
  {
   "cell_type": "code",
   "execution_count": 7,
   "metadata": {},
   "outputs": [],
   "source": [
    "df = df_3"
   ]
  },
  {
   "cell_type": "code",
   "execution_count": 8,
   "metadata": {},
   "outputs": [
    {
     "name": "stdout",
     "output_type": "stream",
     "text": [
      "original CTD data is used.\n"
     ]
    }
   ],
   "source": [
    "sensor = \"CTD\"  # set to \"CTD\" or \"RBR\"\n",
    "\n",
    "\n",
    "if sensor == \"RBR\":\n",
    "    if 'detrend_2_Temp_SML' in df.columns:\n",
    "        print('detrended RBR data is used')\n",
    "        df = df.reset_index()\n",
    "        df = df[['Latitude', 'Longitude', 'detrend_2_Temp_30', 'detrend_2_Temp_40','detrend_2_Temp_50',  'detrend_2_Temp_60', 'detrend_2_Temp_85', 'detrend_2_Temp_100' ]]\n",
    "\n",
    "        df.rename(columns={\n",
    "                        'rbr_detrend_2_Temp_30' : 'RBR_Temperature_30',\n",
    "                        'rbr_detrend_2_Temp_40' : 'RBR_Temperature_40',\n",
    "                        'rbr_detrend_2_Temp_50' : 'RBR_Temperature_50',\n",
    "                        'rbr_detrend_2_Temp_60': 'RBR_Temperature_60',\n",
    "                        'rbr_detrend_2_Temp_85' : 'RBR_Temperature_85',\n",
    "                        'rbr_detrend_2_Temp_100' : 'RBR_Temperature_100'}, inplace= True)\n",
    "    else:\n",
    "        print('original RBR data is used.')\n",
    "        df = df.reset_index()\n",
    "        df = df[['Latitude', 'Longitude', 'RBR_Temperature_30', \n",
    "                'RBR_Temperature_40', \n",
    "                'RBR_Temperature_50',  \n",
    "                'RBR_Temperature_60', 'RBR_Temperature_85', 'RBR_Temperature_100' ]]\n",
    "\n",
    "\n",
    "    # Melt the DataFrame: Reshape from wide to long format\n",
    "    df_melted = df.melt(id_vars=['Latitude', 'Longitude'], \n",
    "                        value_vars=['RBR_Temperature_30', 'RBR_Temperature_40', 'RBR_Temperature_50',  \n",
    "                                    'RBR_Temperature_60', 'RBR_Temperature_85', 'RBR_Temperature_100' ], \n",
    "                        var_name='Depth', \n",
    "                        value_name='Temperature')\n",
    "\n",
    "    # Extract the depth information from the column names\n",
    "    df_melted['Depth'] = (df_melted['Depth'].str.extract(r'(\\d+)$').astype(float))\n",
    "    # Now df_melted has columns: Latitude, Longitude, Temperature, and Depth\n",
    "    df = df_melted\n",
    "    df.head()\n",
    "\n",
    "elif sensor == 'CTD':\n",
    "    if 'detrend_2_Temp_SML' in df.columns:\n",
    "        print('detrended CTD data is used')\n",
    "        df = df.reset_index()\n",
    "        df = df[['Latitude', 'Longitude', 'detrend_2_Temp_SML', 'detrend_2_Temp_30', 'detrend_2_Temp_40','detrend_2_Temp_50',  'detrend_2_Temp_60', 'detrend_2_Temp_85', 'detrend_2_Temp_100' ]]\n",
    "\n",
    "        df.rename(columns={'detrend_2_Temp_SML' : 'CTD_Temperature_1',\n",
    "                        'detrend_2_Temp_30' : 'CTD_Temperature_30',\n",
    "                        'detrend_2_Temp_40' : 'CTD_Temperature_40',\n",
    "                        'detrend_2_Temp_50' : 'CTD_Temperature_50',\n",
    "                        'detrend_2_Temp_60': 'CTD_Temperature_60',\n",
    "                        'detrend_2_Temp_85' : 'CTD_Temperature_85',\n",
    "                        'detrend_2_Temp_100' : 'CTD_Temperature_100'}, inplace= True)\n",
    "    else:\n",
    "        print('original CTD data is used.')\n",
    "        df = df.reset_index()\n",
    "        df = df[['Latitude', 'Longitude', 'CTD_Temperature_1', 'CTD_Temperature_30', \n",
    "                'CTD_Temperature_40', \n",
    "                'CTD_Temperature_50',  \n",
    "                'CTD_Temperature_60', 'CTD_Temperature_85', 'CTD_Temperature_100' ]]\n",
    "\n",
    "\n",
    "    # Melt the DataFrame: Reshape from wide to long format\n",
    "    df_melted = df.melt(id_vars=['Latitude', 'Longitude'], \n",
    "                        value_vars=['CTD_Temperature_1', 'CTD_Temperature_30','CTD_Temperature_40',\n",
    "                                    'CTD_Temperature_50',\n",
    "                                    'CTD_Temperature_60', 'CTD_Temperature_85', 'CTD_Temperature_100' ], \n",
    "                        var_name='Depth', \n",
    "                        value_name='Temperature')\n",
    "\n",
    "    # Extract the depth information from the column names\n",
    "    df_melted['Depth'] = (df_melted['Depth'].str.extract(r'(\\d+)$').astype(float))\n",
    "    # Now df_melted has columns: Latitude, Longitude, Temperature, and Depth\n",
    "    df = df_melted\n",
    "    df.head()\n",
    "\n",
    "else:\n",
    "    print('That did not work. Please enter valid sensor. \"CTD\" or \"RBR\"')"
   ]
  },
  {
   "cell_type": "code",
   "execution_count": 9,
   "metadata": {},
   "outputs": [],
   "source": [
    "# drop lines where Temperature is na\n",
    "df = df.dropna(subset = ['Temperature'])\n",
    "\n",
    "# Extract the columns for Latitude, Longitude, Depth, and Temperature\n",
    "latitudes = df['Latitude']\n",
    "longitudes = df['Longitude']\n",
    "depths = df['Depth']\n",
    "temperature = df['Temperature']\n"
   ]
  },
  {
   "cell_type": "code",
   "execution_count": 10,
   "metadata": {},
   "outputs": [],
   "source": [
    "\n",
    "# Define a grid for Latitude, Longitude, and Depth\n",
    "# adjust these ranges and resolution depending on your data and plot needs\n",
    "grid_longitudes = np.linspace(longitudes.min(), longitudes.max(), 20) \n",
    "\n",
    "grid_latitudes = np.linspace(latitudes.min(), latitudes.max(), 8)  \n",
    "\n",
    "grid_depths = np.linspace(depths.min(), depths.max(), 10) # 10 points in depth direction\n",
    "\n",
    "# Create the meshgrid for the grid of Latitude, Longitude, and Depth\n",
    "grid_lon, grid_lat, grid_depth = np.meshgrid(grid_longitudes, grid_latitudes, grid_depths) # negative depths\n"
   ]
  },
  {
   "cell_type": "code",
   "execution_count": 11,
   "metadata": {},
   "outputs": [],
   "source": [
    "\n",
    "# Flatten the grids for interpolation (scipy.griddata requires 1D arrays for input)\n",
    "points = np.array([longitudes, latitudes, depths]).T  # Original scattered data points\n",
    "grid_points = np.array([grid_lon.flatten(), grid_lat.flatten(), grid_depth.flatten()]).T  # Grid points\n",
    "\n",
    "\n",
    "# Interpolate Temperature onto the new grid\n",
    "# Here we use 'linear' interpolation; you can also try 'cubic' or 'nearest'\n",
    "temp_grid = griddata(points, temperature, grid_points, method='nearest')\n",
    "\n",
    "\n",
    "# Reshape the temperature grid back to the 3D grid shape\n",
    "temp_grid = temp_grid.reshape(grid_latitudes.size, grid_longitudes.size, grid_depths.size)\n"
   ]
  },
  {
   "cell_type": "code",
   "execution_count": 12,
   "metadata": {},
   "outputs": [
    {
     "data": {
      "text/plain": [
       "<matplotlib.collections.PathCollection at 0x1ee5f8d87d0>"
      ]
     },
     "execution_count": 12,
     "metadata": {},
     "output_type": "execute_result"
    }
   ],
   "source": [
    "fig,ax = plt.subplots(nrows=1, figsize=(10,6))#, \n",
    "plt.scatter(df.Longitude, df.Latitude, color='red', label='Original Points', zorder=5, marker='o', s=100)\n",
    "plt.scatter(grid_points[:, 0], grid_points[:, 1], color='blue', label='Grid Points', zorder=3, marker='x', s=30)\n",
    "\n",
    "# Plot grid points (lat, lon)"
   ]
  },
  {
   "cell_type": "code",
   "execution_count": 13,
   "metadata": {},
   "outputs": [],
   "source": [
    "# 3d plot\n",
    "# Define the color range for the contour plot\n",
    "kw = {\n",
    "    'vmin': np.nanmin(temp_grid),\n",
    "    'vmax': np.nanmax(temp_grid),\n",
    "    'levels': np.linspace(np.nanmin(temp_grid), np.nanmax(temp_grid), 10),\n",
    "}\n",
    "# Create the 3D plot\n",
    "fig = plt.figure(figsize=(8, 6))\n",
    "ax = fig.add_subplot(111, projection='3d')\n",
    "\n",
    "#top\n",
    "_ = ax.contourf(\n",
    "    grid_lon[:, :, 0], grid_lat[:, :, 0], temp_grid[:, :, 0],\n",
    "    zdir='z', offset=grid_depth.min(), **kw\n",
    ")\n",
    "\n",
    "#bottom\n",
    "_ = ax.contourf(\n",
    "    grid_lon[:, :, -1], grid_lat[:, :, -1], temp_grid[:, :, -1], #grid_lat[:,:,-1] == grid_lat[:,:,1]?!\n",
    "    zdir='z', offset=grid_depth.max(), **kw\n",
    ")\n",
    "\n",
    "#longitude-depth at lon_min\n",
    "C = ax.contourf(\n",
    "    grid_lon[0, :, :], temp_grid[0, :, :], grid_depth[0, :, :],\n",
    "    zdir = 'y', \n",
    "    offset = grid_lat.min(), \n",
    "    **kw\n",
    ")\n",
    "\n",
    "#lon-depth at lon_max\n",
    "_ = ax.contourf(\n",
    "    grid_lon[-1, :, :], temp_grid[-1, :, :], grid_depth[-1, :, :],\n",
    "    zdir = 'y', \n",
    "    offset = grid_lat.max(), \n",
    "    **kw\n",
    ")\n",
    "\n",
    "#lat-depth at lat.min\n",
    "_ = ax.contourf(\n",
    "    temp_grid[:, 0, :], grid_lat[:, 0, :], grid_depth[:, 0, :],\n",
    "    zdir='x', offset=grid_lon.min(), **kw\n",
    ")\n",
    "\n",
    "# lon-depth at lat.max\n",
    "_ = ax.contourf(\n",
    "    temp_grid[:, -1, :], grid_lat[:, -1, :], grid_depth[:, -1, :],\n",
    "    zdir='x', offset=grid_lon.max(), **kw\n",
    ")\n",
    "\n",
    "\n",
    "\n",
    "# Set limits of the plot from coord limits\n",
    "xmin, xmax = grid_lon.min(), grid_lon.max()\n",
    "ymin, ymax = grid_lat.min(), grid_lat.max()\n",
    "zmin, zmax = grid_depth.max(), grid_depth.min()\n",
    "ax.set(xlim=[xmin, xmax], ylim=[ymin, ymax], zlim=[zmin, zmax])\n",
    "\n",
    "# Plot edges\n",
    "edges_kw = dict(color='0.4', linewidth=1, zorder=1e3)\n",
    "ax.plot([xmax, xmax], [ymin, ymax], [zmax, zmax], **edges_kw)\n",
    "ax.plot([xmin, xmax], [ymin, ymin], [zmax, zmax], **edges_kw)\n",
    "ax.plot([xmax, xmax], [ymin, ymin], [zmin, zmax], **edges_kw)\n",
    "ax.plot([xmin, xmax], [ymin, ymin], [zmin, zmin], **edges_kw)\n",
    "ax.plot([xmin, xmin], [ymin, ymin], [zmin, zmax], **edges_kw)\n",
    "ax.plot([xmax, xmax], [ymin, ymax], [zmin, zmin], **edges_kw)\n",
    "ax.plot([xmax, xmax], [ymax, ymax], [zmin, zmax], **edges_kw)\n",
    "ax.plot([xmin, xmax], [ymax, ymax], [zmax, zmax], **edges_kw)\n",
    "ax.plot([xmin, xmin], [ymin, ymax], [zmax, zmax], **edges_kw)\n",
    "ax.plot([xmin, xmin], [ymin, ymax], [zmin, zmin], **edges_kw)\n",
    "ax.plot([xmin, xmin], [ymax, ymax], [zmin, zmax], **edges_kw)\n",
    "ax.plot([xmin, xmax], [ymax, ymax], [zmin, zmin], **edges_kw)\n",
    "\n",
    "# Set labels and ticks\n",
    "ax.set(\n",
    "    xlabel='Longitude [°]',\n",
    "    ylabel='Latitude [°]',\n",
    "    zlabel='Depth [cm]'\n",
    "    # zticks=[-1, -200, -300],  # Customize these ticks as per your depth range\n",
    ")\n",
    "\n",
    "# Add colorbar\n",
    "fig.colorbar(C, ax=ax, fraction=0.02, pad=0.1, label='Temperature [°C]')\n",
    "\n",
    "# Show the plot\n",
    "plt.show()\n"
   ]
  },
  {
   "cell_type": "code",
   "execution_count": null,
   "metadata": {},
   "outputs": [],
   "source": [
    "fig,ax = plt.subplots(nrows=1, figsize=(10,6))#, \n",
    "plt.scatter(df.Longitude,df.Latitude, c = df['Temperature'], cmap = 'coolwarm')\n",
    "cbar = plt.colorbar(cmap='coolwarm', pad=0.03)\n",
    "cbar.set_label('CTD_Temp_SML', fontsize=18, fontweight='bold')\n",
    "cbar.ax.tick_params(axis='y', which='both', labelsize=14, width=2)  # Adjust length and width as desired\n"
   ]
  },
  {
   "cell_type": "code",
   "execution_count": 173,
   "metadata": {},
   "outputs": [
    {
     "data": {
      "text/plain": [
       "<matplotlib.collections.PathCollection at 0x20b64a72990>"
      ]
     },
     "execution_count": 173,
     "metadata": {},
     "output_type": "execute_result"
    }
   ],
   "source": [
    "fig,ax = plt.subplots(nrows=1, figsize=(10,6))#, \n",
    "plt.scatter(df.Longitude, df.Latitude, color='red', label='Original Points',  marker='o', s=100)\n",
    "plt.scatter(grid_points[:, 0], grid_points[:, 1], color='blue', label='Grid Points', marker='x', s=30)\n",
    "\n"
   ]
  },
  {
   "cell_type": "code",
   "execution_count": null,
   "metadata": {},
   "outputs": [],
   "source": [
    "# grouped = df.groupby('Depth')\n",
    " \n",
    "# for depth, data in grouped:\n",
    "#     plt.figure(figsize=(8, 6))\n",
    "#     plt.scatter(data['Longitude'], data['Latitude'], label=f'Data for {depth}', alpha=0.6, c = data['Temperature'])\n",
    "#     plt.title(f\"Longitude vs Latitude for {depth}\")\n",
    "#     plt.xlabel('Longitude')\n",
    "#     plt.ylabel('Latitude')\n",
    "#     plt.grid(True)\n",
    "#     plt.legend()\n",
    "#     plt.show()\n"
   ]
  }
 ],
 "metadata": {
  "kernelspec": {
   "display_name": "base",
   "language": "python",
   "name": "python3"
  },
  "language_info": {
   "codemirror_mode": {
    "name": "ipython",
    "version": 3
   },
   "file_extension": ".py",
   "mimetype": "text/x-python",
   "name": "python",
   "nbconvert_exporter": "python",
   "pygments_lexer": "ipython3",
   "version": "3.12.4"
  }
 },
 "nbformat": 4,
 "nbformat_minor": 2
}
