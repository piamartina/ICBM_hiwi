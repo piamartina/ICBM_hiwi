{
 "cells": [
  {
   "cell_type": "code",
   "execution_count": 1,
   "metadata": {},
   "outputs": [],
   "source": [
    "import matplotlib.pyplot as plt\n",
    "import numpy as np\n",
    "%matplotlib qt"
   ]
  },
  {
   "cell_type": "code",
   "execution_count": null,
   "metadata": {},
   "outputs": [],
   "source": [
    "\n",
    "# Define dimensions\n",
    "Nx, Ny, Nz = 100, 300, 500\n",
    "X, Y, Z = np.meshgrid(np.arange(Nx), np.arange(Ny), -np.arange(Nz))\n",
    "\n",
    "# Create fake data\n",
    "data = (((X+100)**2 + (Y-20)**2 + 2*Z)/1000+1)\n",
    "\n",
    "kw = {\n",
    "    'vmin': data.min(),\n",
    "    'vmax': data.max(),\n",
    "    'levels': np.linspace(data.min(), data.max(), 10),\n",
    "}\n",
    "\n",
    "# Create a figure with 3D ax\n",
    "fig = plt.figure(figsize=(5, 4))\n",
    "ax = fig.add_subplot(111, projection='3d')\n",
    "\n",
    "# Plot contour surfaces\n",
    "_ = ax.contourf(\n",
    "    X[:, :, 0], Y[:, :, 0], data[:, :, 0],\n",
    "    zdir='z', offset=0, **kw\n",
    ")\n",
    "_ = ax.contourf(\n",
    "    X[0, :, :], data[0, :, :], Z[0, :, :],\n",
    "    zdir='y', offset=Y.min(), **kw\n",
    ")\n",
    "\n",
    "C = ax.contourf(\n",
    "    data[:, -1, :], Y[:, -1, :], Z[:, -1, :],\n",
    "    zdir='x', offset=X.max(), **kw\n",
    ")\n",
    "# --\n",
    "\n",
    "\n",
    "# Set limits of the plot from coord limits\n",
    "xmin, xmax = X.min(), X.max()\n",
    "ymin, ymax = Y.min(), Y.max()\n",
    "zmin, zmax = Z.min(), Z.max()\n",
    "ax.set(xlim=[xmin, xmax], ylim=[ymin, ymax], zlim=[zmin, zmax])\n",
    "\n",
    "# # Plot edges\n",
    "# edges_kw = dict(color='0.4', linewidth=1, zorder=1e3)\n",
    "# ax.plot([xmax, xmax], [ymin, ymax], 0, **edges_kw)\n",
    "# ax.plot([xmin, xmax], [ymin, ymin], 0, **edges_kw)\n",
    "# ax.plot([xmax, xmax], [ymin, ymin], [zmin, zmax], **edges_kw)\n",
    "\n",
    "# Set labels and zticks\n",
    "ax.set(\n",
    "    xlabel='X [km]',\n",
    "    ylabel='Y [km]',\n",
    "    zlabel='Z [m]',\n",
    "    # zticks=[0, -150, -300, -450],\n",
    ")\n",
    "\n",
    "# # Set zoom and angle view\n",
    "# ax.view_init(40, -30, 0)\n",
    "# ax.set_box_aspect(None, zoom=0.9)\n",
    "\n",
    "# Colorbar\n",
    "# fig.colorbar(C, ax=ax, fraction=0.02, pad=0.1, label='Name [units]')\n",
    "\n",
    "# Show Figure\n",
    "plt.show()"
   ]
  },
  {
   "cell_type": "code",
   "execution_count": 9,
   "metadata": {},
   "outputs": [
    {
     "name": "stdout",
     "output_type": "stream",
     "text": [
      "(300, 100, 500)\n",
      "(300, 100, 500)\n",
      "(300, 100, 500)\n",
      "(300, 100, 500)\n"
     ]
    }
   ],
   "source": [
    "print(X.shape)\n",
    "print(Y.shape)\n",
    "print(Z.shape)\n",
    "print(data.shape)"
   ]
  }
 ],
 "metadata": {
  "kernelspec": {
   "display_name": "base",
   "language": "python",
   "name": "python3"
  },
  "language_info": {
   "codemirror_mode": {
    "name": "ipython",
    "version": 3
   },
   "file_extension": ".py",
   "mimetype": "text/x-python",
   "name": "python",
   "nbconvert_exporter": "python",
   "pygments_lexer": "ipython3",
   "version": "3.12.4"
  }
 },
 "nbformat": 4,
 "nbformat_minor": 2
}
