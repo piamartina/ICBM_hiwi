{
 "cells": [
  {
   "cell_type": "code",
   "execution_count": 2,
   "metadata": {},
   "outputs": [],
   "source": [
    "import pandas as pd\n",
    "import numpy as np\n",
    "import matplotlib.pyplot as plt\n",
    "from mpl_toolkits.mplot3d import Axes3D\n",
    "from scipy.interpolate import griddata\n",
    "import warnings\n",
    "warnings.filterwarnings(\"ignore\")\n",
    "import os\n",
    "import seaborn as sns\n",
    "\n",
    "%matplotlib qt"
   ]
  },
  {
   "cell_type": "code",
   "execution_count": 3,
   "metadata": {},
   "outputs": [],
   "source": [
    "\n",
    "#read data and rename cols\n",
    "os.chdir('C:/Users/piago/Documents/Uni/5_Semester/Hiwi')\n",
    "csv_file = \"C:/Users/piago/Documents/Uni/5_Semester/Hiwi/Data/HE614_All_Grids_Single_Sheet.xlsx\"\n",
    "\n",
    "# Read the Excel file\n",
    "df = pd.read_excel(csv_file, skiprows=10)\n",
    "df = df.set_index('Date_Time')\n",
    "df.index = pd.to_datetime(df.index)\n",
    "df.rename(columns={'CTD_Temperature_SML' : 'CTD_Temperature_1',\n",
    "                   'CTD_Temperature_30cm' : 'CTD_Temperature_30',\n",
    "                   'CTD_Temperature_40cm' : 'CTD_Temperature_40',\n",
    "                   'CTD_Temperature_50cm_[°C]' : 'CTD_Temperature_50',\n",
    "                   'CTD_Temperature_60cm_[°C]': 'CTD_Temperature_60',\n",
    "                   'CTD_Temperature_85cm' : 'CTD_Temperature_85',\n",
    "                   'CTD_Temperature_100cm' : 'CTD_Temperature_100',\n",
    "                   'RBR_Temperature_30cm' :  'RBR_Temperature_30',\n",
    "                   'RBR_Temperature_40cm' :  'RBR_Temperature_40',\n",
    "                   'RBR_Temperature_50cm' :  'RBR_Temperature_50',\n",
    "                   'RBR_Temperature_60cm' :  'RBR_Temperature_60',\n",
    "                   'RBR_Temperature_85cm' :  'RBR_Temperature_85',\n",
    "                   'RBR_Temperature_100cm' :  'RBR_Temperature_100'\n",
    "                   }, inplace= True)\n",
    "\n",
    "df['Date'] = df.index.date\n",
    "df_backup = df\n",
    "# extract dfs\n",
    "df_2 = df.loc['2023-03-02']\n",
    "df_2 = df_2[(df_2.index < '2023-03-02 09:48') | (df_2.index >= '2023-03-02 09:49')]\n",
    "\n",
    "df_3 = df.loc['2023-03-03']\n",
    "\n",
    "df_8 = df.loc['2023-03-08']\n",
    "df_8 = df_8[(df_8.index < '2023-03-08 09:19:10') | (df_8.index >= '2023-03-08 09:21:40')]\n",
    "\n",
    "\n",
    "df_9 = df.loc['2023-03-09']\n",
    "df_9.drop(df_9[df_9['CTD_Temperature_1']>6.2].index, inplace = True)\n",
    "\n",
    "\n",
    "df_10 = df.loc['2023-03-10']\n",
    "\n",
    "df_11 = df.loc['2023-03-11']\n",
    "\n",
    "df_17 = df.loc['2023-03-17']\n",
    "df_17 = df_17[df_17.index > '2023-03-17 08:03']\n",
    "\n",
    "df_18 = df.loc['2023-03-18']\n",
    "df_18 = df_18[df_18.index > '2023-03-18 07:50']\n",
    "\n",
    "df_19 = df.loc['2023-03-19']\n",
    "df_19 = df_19[(df_19.index < '2023-03-08 10:15:30') | (df_19.index >= '2023-03-19 10:16:20')]\n",
    "\n",
    "df_20 = df.loc['2023-03-20']\n",
    "\n",
    "\n",
    "#Detrend CTD, RBR and Campbell Air temp where reasonable\n"
   ]
  },
  {
   "cell_type": "code",
   "execution_count": 4,
   "metadata": {},
   "outputs": [
    {
     "name": "stdout",
     "output_type": "stream",
     "text": [
      "2023-03-02: Column CTD_Temperature_40 contains only NaN values. Creating nan-column for depth 40.\n",
      "Mission 2023-03-02 detrended.\n",
      "\n",
      "2023-03-08: Column CTD_Temperature_50 contains only NaN values. Creating nan-column for depth 50.\n",
      "2023-03-08: Column RBR_Temperature_50cm is empty or contains only NaN values. creating nan-column for depth 50.\n",
      "Mission 2023-03-08 detrended.\n",
      "\n",
      "2023-03-09: Column CTD_Temperature_50 contains only NaN values. Creating nan-column for depth 50.\n",
      "Mission 2023-03-09 detrended.\n",
      "\n",
      "2023-03-17: Column CTD_Temperature_50 contains only NaN values. Creating nan-column for depth 50.\n",
      "Mission 2023-03-17 detrended.\n",
      "\n"
     ]
    }
   ],
   "source": [
    "# correct temperatures\n",
    "for df in [df_2, df_8, df_9, df_17]:\n",
    "    # time in total seconds\n",
    "    df['time_numeric'] = (df.index - df.index.min()).total_seconds()  \n",
    "\n",
    "    # same for all depths\n",
    "    if len(df) == len(df_8):\n",
    "        depths = [1, 30, 40, 50, 60, 85]\n",
    "    else:\n",
    "        depths = [1, 30, 40, 50, 60, 85, 100]\n",
    "\n",
    "    for d in depths:\n",
    "        if df[f'CTD_Temperature_{d}'].dropna().empty:\n",
    "            # If the column is empty (all NaNs), skip this depth\n",
    "            print(f\"{df['Date'][0]}: Column CTD_Temperature_{d} contains only NaN values. Creating nan-column for depth {d}.\")\n",
    "            df[f'detrend_2_Temp_{d}'] = np.nan\n",
    "\n",
    "        else:\n",
    "            coefficients = np.polyfit(df['time_numeric'], df[f'CTD_Temperature_{d}'], 2) # fit polynomial\n",
    "            polynomial = np.poly1d(coefficients) #create function\n",
    "            df[f'fitted_2_Temp_{d}'] = polynomial(df['time_numeric']) #values\n",
    "            df[f'detrend_2_Temp_{d}'] = df[f'CTD_Temperature_{d}'] - df[f'fitted_2_Temp_{d}']\n",
    "            df[f'detrend_2_Temp_{d}'] = df[f'detrend_2_Temp_{d}'] + df[f'fitted_2_Temp_{d}'].median()\n",
    "            df.rename(columns={f'CTD_Temperature_{d}' : f'CTD_Temperature_{d}_old'}, inplace=True)\n",
    "            df.rename(columns={f'detrend_2_Temp_{d}' : f'CTD_Temperature_{d}'}, inplace=True)\n",
    "\n",
    "\n",
    "    # ... and same for airtemp\n",
    "    coefficients = np.polyfit(df['time_numeric'], df['Campbell_Air_Temperature'], 2) # fit polynomial\n",
    "    polynomial = np.poly1d(coefficients) #create function\n",
    "    df[f'fitted_2_Temp_Air'] = polynomial(df['time_numeric']) #values\n",
    "    df[f'Air_detrend_2_Temp'] = df['Campbell_Air_Temperature'] - df[f'fitted_2_Temp_Air']\n",
    "    df[f'Air_detrend_2_Temp'] = df[f'Air_detrend_2_Temp'] + df[f'fitted_2_Temp_Air'].median()\n",
    "\n",
    "    # ... and for RBRs\n",
    "    depths = [30, 40, 50, 60, 85, 100]\n",
    "    for d in depths:\n",
    "        if df[f'RBR_Temperature_{d}'].dropna().empty:\n",
    "            print(f\"{df['Date'][0]}: Column RBR_Temperature_{d}cm is empty or contains only NaN values. creating nan-column for depth {d}.\")\n",
    "        else: \n",
    "            coefficients = np.polyfit(df['time_numeric'], df[f'RBR_Temperature_{d}'], 2) # fit polynomial\n",
    "            polynomial = np.poly1d(coefficients) #create function\n",
    "            df[f'rbr_fitted_2_Temp_{d}'] = polynomial(df['time_numeric']) #values\n",
    "            df[f'rbr_detrend_2_Temp_{d}'] = df[f'RBR_Temperature_{d}'] - df[f'rbr_fitted_2_Temp_{d}']\n",
    "            df[f'rbr_detrend_2_Temp_{d}'] = df[f'rbr_detrend_2_Temp_{d}'] + df[f'rbr_fitted_2_Temp_{d}'].median()\n",
    "\n",
    "    print(f'Mission {str(df['Date'][0])} detrended.\\n')\n",
    "df_9_1 = df_9[df_9['time_numeric'] < (df_9['time_numeric'].max()/2)]\n",
    "df_9_2 = df_9[df_9['time_numeric'] > (df_9['time_numeric'].max()/2)]\n",
    "\n",
    "all_df = [df_2, df_3, df_8, df_9, df_10, df_11, df_17, df_18, df_19, df_20]\n"
   ]
  },
  {
   "cell_type": "code",
   "execution_count": 13,
   "metadata": {},
   "outputs": [],
   "source": [
    "# look at anomaly only\n",
    "for df in all_df:\n",
    "    df['CTD_1_anomaly'] = df['CTD_Temperature_1'] - df['CTD_Temperature_1'].mean()\n",
    "    df['CTD_30_anomaly'] = df['CTD_Temperature_30'] - df['CTD_Temperature_30'].mean()\n",
    "    df['RBR_30_anomaly'] = df['RBR_Temperature_30'] - df['RBR_Temperature_30'].mean()\n",
    "    df['Air_anomaly'] = df['Campbell_Air_Temperature'] - df['Campbell_Air_Temperature'].mean()\n",
    "    # df['Air_smoothed_anomaly'] = df['Campbell_Airtemp_smoothed'] - df['Campbell_Airtemp_smoothed'].mean()\n"
   ]
  },
  {
   "cell_type": "code",
   "execution_count": 18,
   "metadata": {},
   "outputs": [
    {
     "data": {
      "text/plain": [
       "<function matplotlib.pyplot.show(*, block=None)>"
      ]
     },
     "execution_count": 18,
     "metadata": {},
     "output_type": "execute_result"
    }
   ],
   "source": [
    "df = df_17\n",
    "\n",
    "min_value = min(df['Air_anomaly'].min(), df['CTD_1_anomaly'].min())  # Get the minimum value for both axes\n",
    "max_value = max(df['Air_anomaly'].max(), df['CTD_1_anomaly'].max())  # Get the maximum value for both axes\n",
    "\n",
    "plt.scatter(df['Air_anomaly'], df['CTD_1_anomaly'])\n",
    "plt.plot([min_value, max_value], [min_value, max_value], color='red', linestyle='--', label='x = y')\n",
    "plt.title('Anomalies Air temperaute and SML temperature', fontsize = 18)\n",
    "plt.xlabel('Air temperature anomaly', fontsize = 15)\n",
    "plt.ylabel('SML temperature anomaly', fontsize = 15)\n",
    "plt.xticks(size = 15)\n",
    "plt.yticks(size = 15)\n",
    "plt.show"
   ]
  }
 ],
 "metadata": {
  "kernelspec": {
   "display_name": "base",
   "language": "python",
   "name": "python3"
  },
  "language_info": {
   "codemirror_mode": {
    "name": "ipython",
    "version": 3
   },
   "file_extension": ".py",
   "mimetype": "text/x-python",
   "name": "python",
   "nbconvert_exporter": "python",
   "pygments_lexer": "ipython3",
   "version": "3.12.4"
  }
 },
 "nbformat": 4,
 "nbformat_minor": 2
}
