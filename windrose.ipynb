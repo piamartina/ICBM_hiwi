{
 "cells": [
  {
   "cell_type": "code",
   "execution_count": 1,
   "metadata": {},
   "outputs": [],
   "source": [
    "import pandas as pd\n",
    "import numpy as np\n",
    "from matplotlib import pyplot as plt\n",
    "import matplotlib.cm as cm\n",
    "from math import pi\n",
    "from windrose import WindroseAxes\n",
    "import os\n"
   ]
  },
  {
   "cell_type": "code",
   "execution_count": 2,
   "metadata": {},
   "outputs": [],
   "source": [
    "#read data and rename cols\n",
    "os.chdir('C:/Users/piago/Documents/Uni/5_Semester/Hiwi')\n",
    "csv_file = \"C:/Users/piago/Documents/Uni/5_Semester/Hiwi/Data/HE614_All_Grids_Single_Sheet.xlsx\"\n",
    "\n",
    "# Read the Excel file\n",
    "df = pd.read_excel(csv_file, skiprows=10)\n",
    "df = df.set_index('Date_Time')\n",
    "df.index = pd.to_datetime(df.index)\n",
    "df.rename(columns={'CTD_Temperature_SML' : 'CTD_Temperature_1',\n",
    "                   'CTD_Temperature_30cm' : 'CTD_Temperature_30',\n",
    "                   'CTD_Temperature_40cm' : 'CTD_Temperature_40',\n",
    "                   'CTD_Temperature_50cm_[°C]' : 'CTD_Temperature_50',\n",
    "                   'CTD_Temperature_60cm_[°C]': 'CTD_Temperature_60',\n",
    "                   'CTD_Temperature_85cm' : 'CTD_Temperature_85',\n",
    "                   'CTD_Temperature_100cm' : 'CTD_Temperature_100',\n",
    "                   'RBR_Temperature_30cm' :  'RBR_Temperature_30',\n",
    "                   'RBR_Temperature_40cm' :  'RBR_Temperature_40',\n",
    "                   'RBR_Temperature_50cm' :  'RBR_Temperature_50',\n",
    "                   'RBR_Temperature_60cm' :  'RBR_Temperature_60',\n",
    "                   'RBR_Temperature_85cm' :  'RBR_Temperature_85',\n",
    "                   'RBR_Temperature_100cm' :  'RBR_Temperature_100'\n",
    "                   }, inplace= True)\n",
    "\n",
    "df['Date'] = df.index.date\n",
    "df_backup = df"
   ]
  },
  {
   "cell_type": "code",
   "execution_count": 3,
   "metadata": {},
   "outputs": [
    {
     "name": "stderr",
     "output_type": "stream",
     "text": [
      "C:\\Users\\piago\\AppData\\Local\\Temp\\ipykernel_36912\\1537504962.py:12: SettingWithCopyWarning: \n",
      "A value is trying to be set on a copy of a slice from a DataFrame\n",
      "\n",
      "See the caveats in the documentation: https://pandas.pydata.org/pandas-docs/stable/user_guide/indexing.html#returning-a-view-versus-a-copy\n",
      "  df_9.drop(df_9[df_9['CTD_Temperature_1']>6.2].index, inplace = True)\n"
     ]
    }
   ],
   "source": [
    "# extract dfs\n",
    "df_2 = df.loc['2023-03-02']\n",
    "df_2 = df_2[(df_2.index < '2023-03-02 09:48') | (df_2.index >= '2023-03-02 09:49')]\n",
    "\n",
    "df_3 = df.loc['2023-03-03']\n",
    "\n",
    "df_8 = df.loc['2023-03-08']\n",
    "df_8 = df_8[(df_8.index < '2023-03-08 09:19:10') | (df_8.index >= '2023-03-08 09:21:40')]\n",
    "\n",
    "\n",
    "df_9 = df.loc['2023-03-09']\n",
    "df_9.drop(df_9[df_9['CTD_Temperature_1']>6.2].index, inplace = True)\n",
    "\n",
    "\n",
    "df_10 = df.loc['2023-03-10']\n",
    "\n",
    "df_11 = df.loc['2023-03-11']\n",
    "\n",
    "df_17 = df.loc['2023-03-17']\n",
    "df_17 = df_17[df_17.index > '2023-03-17 08:03']\n",
    "\n",
    "df_18 = df.loc['2023-03-18']\n",
    "df_18 = df_18[df_18.index > '2023-03-18 07:50']\n",
    "\n",
    "df_19 = df.loc['2023-03-19']\n",
    "df_19 = df_19[(df_19.index < '2023-03-08 10:15:30') | (df_19.index >= '2023-03-19 10:16:20')]\n",
    "\n",
    "df_20 = df.loc['2023-03-20']\n",
    "\n",
    "\n",
    "all_df = [df_2, df_3, df_8, df_9, df_10, df_11, df_17, df_18, df_19, df_20]"
   ]
  },
  {
   "cell_type": "code",
   "execution_count": 4,
   "metadata": {},
   "outputs": [],
   "source": [
    "df = df_3"
   ]
  },
  {
   "cell_type": "code",
   "execution_count": 5,
   "metadata": {},
   "outputs": [],
   "source": [
    "%matplotlib qt"
   ]
  },
  {
   "cell_type": "code",
   "execution_count": 7,
   "metadata": {},
   "outputs": [
    {
     "data": {
      "text/plain": [
       "<matplotlib.legend.Legend at 0x29ebe498bf0>"
      ]
     },
     "execution_count": 7,
     "metadata": {},
     "output_type": "execute_result"
    }
   ],
   "source": [
    "ax = WindroseAxes.from_ax()\n",
    "ax.bar(df.Campbell_Wind_Direction_True, df.Campbell_Wind_Speed, normed=True, opening=0.8, edgecolor='white')\n",
    "ax.set_legend()"
   ]
  }
 ],
 "metadata": {
  "kernelspec": {
   "display_name": "base",
   "language": "python",
   "name": "python3"
  },
  "language_info": {
   "codemirror_mode": {
    "name": "ipython",
    "version": 3
   },
   "file_extension": ".py",
   "mimetype": "text/x-python",
   "name": "python",
   "nbconvert_exporter": "python",
   "pygments_lexer": "ipython3",
   "version": "3.12.4"
  }
 },
 "nbformat": 4,
 "nbformat_minor": 2
}
