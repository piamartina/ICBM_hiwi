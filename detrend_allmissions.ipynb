{
 "cells": [
  {
   "cell_type": "code",
   "execution_count": null,
   "metadata": {},
   "outputs": [],
   "source": [
    "# detrend missions in the big dataset\n",
    "\n",
    "# Pia Goecke, pia.goecke@uni-oldenburg.de\n",
    "# 03.02.2025"
   ]
  },
  {
   "cell_type": "code",
   "execution_count": 1,
   "metadata": {},
   "outputs": [],
   "source": [
    "import pandas as pd\n",
    "import numpy as np\n",
    "import matplotlib.pyplot as plt\n",
    "from mpl_toolkits.mplot3d import Axes3D\n",
    "from scipy.interpolate import griddata\n",
    "import warnings\n",
    "warnings.filterwarnings(\"ignore\")\n",
    "import os\n",
    "import seaborn as sns\n",
    "import plotly.graph_objs as go\n",
    "\n",
    "%matplotlib qt\n"
   ]
  },
  {
   "cell_type": "code",
   "execution_count": 2,
   "metadata": {},
   "outputs": [],
   "source": [
    "# read data from HE598\n",
    "os.chdir('C:/Users/piago/Documents/Uni/5_Semester/Hiwi')\n",
    "\n",
    "csv_file = \"C:/Users/piago/Documents/Uni/5_Semester/Hiwi/Data/HE598_All_Grids_Single_Sheet_Revised_v1.xlsx\"\n",
    "df = pd.read_excel(csv_file)\n",
    "df = df.set_index('Date_Time')\n",
    "df.index = pd.to_datetime(df.index)\n",
    "df_598 = df\n",
    "\n",
    "# read data from HE609\n",
    "csv_file = \"C:/Users/piago/Documents/Uni/5_Semester/Hiwi/Data/HE609_All_Grids_Single_Sheet_Revised_v1.xlsx\"\n",
    "df = pd.read_excel(csv_file)\n",
    "df = df.set_index('Date_Time')\n",
    "df.index = pd.to_datetime(df.index)\n",
    "df_609 = df\n",
    "\n",
    "# read data from cruise HE614\n",
    "csv_file = \"C:/Users/piago/Documents/Uni/5_Semester/Hiwi/Data/HE614_All_Grids_Single_Sheet.xlsx\"\n",
    "df = pd.read_excel(csv_file, skiprows=10)\n",
    "df = df.set_index('Date_Time')\n",
    "df.index = pd.to_datetime(df.index)\n",
    "df.rename(columns={'CTD_Temperature_50cm_[°C]' : 'CTD_Temperature_50cm',\n",
    "                   'CTD_Temperature_60cm_[°C]': 'CTD_Temperature_60cm'\n",
    "                   }, inplace= True)\n",
    "df_614 = df\n",
    "\n",
    "# read data from HE626\n",
    "csv_file = \"C:/Users/piago/Documents/Uni/5_Semester/Hiwi/Data/HE626_All_Grids_Single_Sheet.xlsx\"\n",
    "df = pd.read_excel(csv_file)\n",
    "df = df.set_index('Date_Time')\n",
    "df.index = pd.to_datetime(df.index)\n",
    "df_626 = df\n",
    "\n",
    "# some new columns\n",
    "df_598['cruise'] = 'HE598'\n",
    "df_609['cruise'] = 'HE609'\n",
    "df_614['cruise'] = 'HE614'\n",
    "df_626['cruise'] = 'HE626'\n",
    "\n",
    "df_598['Date_Time'] = df_598.index\n",
    "df_609['Date_Time'] = df_609.index\n",
    "df_614['Date_Time'] = df_614.index\n",
    "df_626['Date_Time'] = df_626.index\n",
    "\n"
   ]
  },
  {
   "cell_type": "code",
   "execution_count": 4,
   "metadata": {},
   "outputs": [],
   "source": [
    "allcruises = pd.concat([df_598, df_609, df_614, df_626], axis = 0, ignore_index=True)\n",
    "allcruises['Date'] = pd.to_datetime(allcruises['Date_Time'].dt.date)\n",
    "allcruises['Month'] = allcruises['Date_Time'].dt.month"
   ]
  },
  {
   "cell_type": "code",
   "execution_count": 5,
   "metadata": {},
   "outputs": [
    {
     "name": "stdout",
     "output_type": "stream",
     "text": [
      "2023-03-02: Column CTD_Temperature_40cm contains only NaN values. Creating nan-column for depth 40cm.\n",
      "Mission 2023-03-02 detrended.\n",
      "\n",
      "2023-03-08: Column CTD_Temperature_50cm contains only NaN values. Creating nan-column for depth 50cm.\n",
      "2023-03-08: Column RBR_Temperature_50cmcm is empty or contains only NaN values. creating nan-column for depth 50cm.\n",
      "Mission 2023-03-08 detrended.\n",
      "\n",
      "2023-03-09: Column CTD_Temperature_50cm contains only NaN values. Creating nan-column for depth 50cm.\n",
      "Mission 2023-03-09 detrended.\n",
      "\n",
      "2023-03-17: Column CTD_Temperature_50cm contains only NaN values. Creating nan-column for depth 50cm.\n",
      "Mission 2023-03-17 detrended.\n",
      "\n"
     ]
    }
   ],
   "source": [
    "\n",
    "for date in ['2023-03-02','2023-03-08','2023-03-09','2023-03-17' ]:\n",
    "    df = allcruises[allcruises['Date'] == date]\n",
    "\n",
    "    # time in total seconds\n",
    "    df['time_numeric'] = (df['Date_Time'] - df['Date_Time'].min()).dt.total_seconds()  \n",
    "\n",
    "    # same for all depths\n",
    "    if date == '2023-03-08':\n",
    "        depths = ['SML', '30cm', '40cm', '50cm', '60cm', '85cm']\n",
    "    else:\n",
    "        depths = ['SML', '30cm', '40cm', '50cm', '60cm', '85cm', '100cm']\n",
    "\n",
    "    for d in depths:\n",
    "        if df[f'CTD_Temperature_{d}'].dropna().empty:\n",
    "            # If the column is empty (all NaNs), skip this depth\n",
    "            print(f\"{date}: Column CTD_Temperature_{d} contains only NaN values. Creating nan-column for depth {d}.\")\n",
    "            df[f'detrend_Temp_{d}'] = np.nan\n",
    "\n",
    "        else:\n",
    "            coefficients = np.polyfit(df['time_numeric'], df[f'CTD_Temperature_{d}'], 2) # fit polynomial\n",
    "            polynomial = np.poly1d(coefficients) #create function\n",
    "            df[f'fitted_Temp_{d}'] = polynomial(df['time_numeric']) #values\n",
    "            df[f'detrend_Temp_{d}'] = df[f'CTD_Temperature_{d}'] - df[f'fitted_Temp_{d}']\n",
    "            df[f'detrend_Temp_{d}'] = df[f'detrend_Temp_{d}'] + df[f'fitted_Temp_{d}'].median()\n",
    "            allcruises.loc[allcruises['Date'] == date, f'CTD_detrend_{d}'] = df[f'detrend_Temp_{d}']\n",
    "            # df.rename(columns={f'CTD_Temperature_{d}' : f'CTD_Temperature_{d}_old'}, inplace=True)\n",
    "            # df.rename(columns={f'detrend_2_Temp_{d}' : f'CTD_Temperature_{d}'}, inplace=True)\n",
    "\n",
    "\n",
    "    # ... and same for airtemp\n",
    "    coefficients = np.polyfit(df['time_numeric'], df['Campbell_Air_Temperature'], 2) # fit polynomial\n",
    "    polynomial = np.poly1d(coefficients) #create function\n",
    "    df[f'fitted_Temp_Air'] = polynomial(df['time_numeric']) #values\n",
    "    df[f'Air_detrend_Temp'] = df['Campbell_Air_Temperature'] - df[f'fitted_Temp_Air']\n",
    "    df[f'Air_detrend_Temp'] = df[f'Air_detrend_Temp'] + df[f'fitted_Temp_Air'].median()\n",
    "\n",
    "    # ... and for RBRs\n",
    "    depths = ['30cm', '40cm', '50cm', '60cm', '85cm', '100cm']\n",
    "    for d in depths:\n",
    "        if df[f'RBR_Temperature_{d}'].dropna().empty:\n",
    "            print(f\"{date}: Column RBR_Temperature_{d}cm is empty or contains only NaN values. creating nan-column for depth {d}.\")\n",
    "        else: \n",
    "            coefficients = np.polyfit(df['time_numeric'], df[f'RBR_Temperature_{d}'], 2) # fit polynomial\n",
    "            polynomial = np.poly1d(coefficients) #create function\n",
    "            df[f'rbr_fitted_Temp_{d}'] = polynomial(df['time_numeric']) #values\n",
    "            df[f'rbr_detrend_Temp_{d}'] = df[f'RBR_Temperature_{d}'] - df[f'rbr_fitted_Temp_{d}']\n",
    "            df[f'rbr_detrend_Temp_{d}'] = df[f'rbr_detrend_Temp_{d}'] + df[f'rbr_fitted_Temp_{d}'].median()\n",
    "\n",
    "    print(f'Mission {date} detrended.\\n')\n",
    "# # df_9_1 = df_9[df_9['time_numeric'] < (df_9['time_numeric'].max()/2)]\n",
    "# # df_9_2 = df_9[df_9['time_numeric'] > (df_9['time_numeric'].max()/2)]"
   ]
  },
  {
   "cell_type": "code",
   "execution_count": 7,
   "metadata": {},
   "outputs": [
    {
     "data": {
      "text/plain": [
       "Date\n",
       "2022-05-02         NaN\n",
       "2022-05-05         NaN\n",
       "2022-05-06         NaN\n",
       "2022-05-07         NaN\n",
       "2022-05-09         NaN\n",
       "2022-05-10         NaN\n",
       "2022-05-14         NaN\n",
       "2022-05-17         NaN\n",
       "2022-05-18         NaN\n",
       "2022-05-19         NaN\n",
       "2022-05-20         NaN\n",
       "2022-10-05         NaN\n",
       "2022-10-10         NaN\n",
       "2022-10-12         NaN\n",
       "2022-10-14         NaN\n",
       "2022-10-17         NaN\n",
       "2022-10-21         NaN\n",
       "2022-10-22         NaN\n",
       "2022-10-23         NaN\n",
       "2023-03-02    6.804141\n",
       "2023-03-03         NaN\n",
       "2023-03-08    6.406879\n",
       "2023-03-09    5.984589\n",
       "2023-03-10         NaN\n",
       "2023-03-11         NaN\n",
       "2023-03-17    6.065578\n",
       "2023-03-18         NaN\n",
       "2023-03-19         NaN\n",
       "2023-03-20         NaN\n",
       "2023-07-21         NaN\n",
       "2023-07-22         NaN\n",
       "2023-07-23         NaN\n",
       "2023-07-24         NaN\n",
       "2023-07-27         NaN\n",
       "2023-07-28         NaN\n",
       "2023-07-29         NaN\n",
       "2023-08-02         NaN\n",
       "2023-08-03         NaN\n",
       "2023-08-05         NaN\n",
       "Name: CTD_detrend_30cm, dtype: float64"
      ]
     },
     "execution_count": 7,
     "metadata": {},
     "output_type": "execute_result"
    }
   ],
   "source": [
    "allcruises.groupby('Date')['CTD_detrend_30cm'].mean() "
   ]
  },
  {
   "cell_type": "code",
   "execution_count": null,
   "metadata": {},
   "outputs": [],
   "source": []
  }
 ],
 "metadata": {
  "kernelspec": {
   "display_name": "base",
   "language": "python",
   "name": "python3"
  },
  "language_info": {
   "codemirror_mode": {
    "name": "ipython",
    "version": 3
   },
   "file_extension": ".py",
   "mimetype": "text/x-python",
   "name": "python",
   "nbconvert_exporter": "python",
   "pygments_lexer": "ipython3",
   "version": "3.12.4"
  }
 },
 "nbformat": 4,
 "nbformat_minor": 2
}
