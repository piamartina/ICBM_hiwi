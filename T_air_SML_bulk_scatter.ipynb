{
 "cells": [
  {
   "cell_type": "code",
   "execution_count": null,
   "metadata": {},
   "outputs": [],
   "source": [
    "# plot as in Gladyshev, M. (2002). Biophysics of the surface microlayer of aquatic ecosystems. IWA Publishing.\n",
    "# compare difference between SML-temperature / Air- temperature and SML-temperature / bulk-temperature\n",
    "\n",
    "# Pia Goecke, pia.goecke@uni-oldenburg.de\n",
    "# 06.12.2024"
   ]
  },
  {
   "cell_type": "code",
   "execution_count": 1,
   "metadata": {},
   "outputs": [],
   "source": [
    "import pandas as pd\n",
    "import numpy as np\n",
    "import matplotlib.pyplot as plt\n",
    "from mpl_toolkits.mplot3d import Axes3D\n",
    "from scipy.interpolate import griddata\n",
    "import warnings\n",
    "warnings.filterwarnings(\"ignore\")\n",
    "import os\n",
    "import seaborn as sns\n",
    "import plotly.graph_objs as go\n",
    "\n",
    "%matplotlib qt\n"
   ]
  },
  {
   "cell_type": "code",
   "execution_count": 2,
   "metadata": {},
   "outputs": [],
   "source": [
    "# read data from HE598\n",
    "os.chdir('C:/Users/piago/Documents/Uni/5_Semester/Hiwi')\n",
    "\n",
    "csv_file = \"C:/Users/piago/Documents/Uni/5_Semester/Hiwi/Data/HE598_All_Grids_Single_Sheet_Revised_v1.xlsx\"\n",
    "\n",
    "# Read the Excel file\n",
    "df = pd.read_excel(csv_file)\n",
    "df = df.set_index('Date_Time')\n",
    "df.index = pd.to_datetime(df.index)\n",
    "df_598 = df"
   ]
  },
  {
   "cell_type": "code",
   "execution_count": 3,
   "metadata": {},
   "outputs": [],
   "source": [
    "# read data from HE609\n",
    "csv_file = \"C:/Users/piago/Documents/Uni/5_Semester/Hiwi/Data/HE609_All_Grids_Single_Sheet_Revised_v1.xlsx\"\n",
    "\n",
    "# Read the Excel file\n",
    "df = pd.read_excel(csv_file)\n",
    "df = df.set_index('Date_Time')\n",
    "df.index = pd.to_datetime(df.index)\n",
    "df_609 = df"
   ]
  },
  {
   "cell_type": "code",
   "execution_count": 4,
   "metadata": {},
   "outputs": [],
   "source": [
    "# read data from cruise HE614\n",
    "#read data and rename cols\n",
    "csv_file = \"C:/Users/piago/Documents/Uni/5_Semester/Hiwi/Data/HE614_All_Grids_Single_Sheet.xlsx\"\n",
    "\n",
    "# Read the Excel file\n",
    "df = pd.read_excel(csv_file, skiprows=10)\n",
    "df = df.set_index('Date_Time')\n",
    "df.index = pd.to_datetime(df.index)\n",
    "df.rename(columns={'CTD_Temperature_50cm_[°C]' : 'CTD_Temperature_50cm',\n",
    "                   'CTD_Temperature_60cm_[°C]': 'CTD_Temperature_60cm'\n",
    "                   }, inplace= True)\n",
    "\n",
    "# df['Date'] = df.index.date\n",
    "df_614 = df\n",
    "\n"
   ]
  },
  {
   "cell_type": "code",
   "execution_count": 5,
   "metadata": {},
   "outputs": [],
   "source": [
    "# read data from HE626\n",
    "csv_file = \"C:/Users/piago/Documents/Uni/5_Semester/Hiwi/Data/HE626_All_Grids_Single_Sheet.xlsx\"\n",
    "\n",
    "# Read the Excel file\n",
    "df = pd.read_excel(csv_file)\n",
    "df = df.set_index('Date_Time')\n",
    "df.index = pd.to_datetime(df.index)\n",
    "df_626 = df"
   ]
  },
  {
   "cell_type": "code",
   "execution_count": 6,
   "metadata": {},
   "outputs": [],
   "source": [
    "# some new columns\n",
    "df_598['cruise'] = 'HE598'\n",
    "df_609['cruise'] = 'HE609'\n",
    "df_614['cruise'] = 'HE614'\n",
    "df_626['cruise'] = 'HE626'\n",
    "\n",
    "df_598['Date_Time'] = df_598.index\n",
    "df_609['Date_Time'] = df_609.index\n",
    "df_614['Date_Time'] = df_614.index\n",
    "df_626['Date_Time'] = df_626.index"
   ]
  },
  {
   "cell_type": "code",
   "execution_count": 41,
   "metadata": {},
   "outputs": [],
   "source": [
    "allcruises = pd.concat([df_598, df_609, df_614, df_626], axis = 0, ignore_index=True)\n",
    "allcruises['Date'] = pd.to_datetime(allcruises['Date_Time'].dt.date)\n",
    "allcruises['Month'] = allcruises['Date_Time'].dt.month"
   ]
  },
  {
   "cell_type": "code",
   "execution_count": 8,
   "metadata": {},
   "outputs": [],
   "source": [
    "# interpolate Thies solar, thies_3_temp and thies_Wind speed grouped by day\n",
    "\n",
    "allcruises['Thies_Solar_Radiation_SMP6_AVG_interp'] = allcruises.groupby('Date')['Thies_Solar_Radiation_SMP6_AVG'].apply(lambda group: group.interpolate()).reset_index(level=0, drop=True)\n",
    "allcruises['Thies_Temperature_3_AVG_interp'] = allcruises.groupby('Date')['Thies_Temperature_3_AVG'].apply(lambda group: group.interpolate()).reset_index(level=0, drop=True)\n",
    "allcruises['Thies_Wind_Speed_CUS_AVG_interp'] = allcruises.groupby('Date')['Thies_Wind_Speed_CUS_AVG'].apply(lambda group: group.interpolate()).reset_index(level=0, drop=True)\n"
   ]
  },
  {
   "cell_type": "code",
   "execution_count": null,
   "metadata": {},
   "outputs": [],
   "source": [
    "grouped = allcruises.groupby('Date') \n",
    "for date, data in grouped:\n",
    "    plt.figure()\n",
    "    plt.scatter(data['Date_Time'], data['Thies_Wind_Speed_CUS_AVG']) #Thies_Temperature_3_AVG\n",
    "    plt.title(data['Date'].iloc[0])\n",
    "    plt.show()"
   ]
  },
  {
   "cell_type": "code",
   "execution_count": null,
   "metadata": {},
   "outputs": [
    {
     "name": "stdout",
     "output_type": "stream",
     "text": [
      "number of days with misisng Campbell wind: 1 \n",
      "number of days with missing Thies_3: 1\n"
     ]
    }
   ],
   "source": [
    "grouped = allcruises.groupby('Date') \n",
    "missing_campbell = grouped['Thies_Wind_Speed_CUS_AVG'].apply(lambda x : x.isna().all()).sum()\n",
    "missing_Thies_3 = grouped['Thies_Temperature_3_AVG'].apply(lambda x : x.isna().all()).sum()\n",
    "\n",
    "print(f'number of days with misisng Campbell wind: {missing_campbell} \\nnumber of days with missing Thies_3: {missing_Thies_3}')\n",
    "\n",
    "#5.5.: npo campbell\n",
    "# 5.5. no thies\n"
   ]
  },
  {
   "cell_type": "code",
   "execution_count": 15,
   "metadata": {},
   "outputs": [],
   "source": [
    "allcruises['sml-bulk'] = allcruises['CTD_Temperature_SML'] - allcruises['CTD_Temperature_100cm']\n",
    "allcruises['air-bulk'] = allcruises['Campbell_Air_Temperature'] - allcruises['CTD_Temperature_100cm'] # choose airtemp\n",
    "\n",
    "#Campbell_Air_Temperature\n",
    "#Thies_Temperature_3_AVG\n",
    "#Thies_Temperature_3_AVG_interp"
   ]
  },
  {
   "cell_type": "code",
   "execution_count": 16,
   "metadata": {},
   "outputs": [],
   "source": [
    "# plot SML-bulk / air-bulk\n",
    "\n",
    "df = allcruises#[allcruises['cruise'] == 'HE626']  # plot everything or only 1 cruise\n",
    "\n",
    "plt.figure(figsize = (12,8))\n",
    "sns.scatterplot(data=df, x = 'air-bulk', y = 'sml-bulk', hue = 'Month',     # hue as 'Thies_Solar_Radiation_SMP6_AVG_interp' or 'Wind_Speed_U10', or 'Month', 'Date', ...\n",
    "                # style = 'Month', \n",
    "                palette='viridis', s = 30,\n",
    "            zorder = 2)\n",
    "\n",
    "plt.axvline(0, color = 'black', zorder = 1)\n",
    "plt.axhline(0, color = 'black', zorder = 1)\n",
    "\n",
    "\n",
    "plt.ylabel('Temperature difference SML-bulk [°C]' ,fontsize = 20)\n",
    "plt.tick_params(axis='x', labelsize=20)\n",
    "plt.tick_params(axis='y', labelsize=20)\n",
    "plt.xlabel('Temperature difference Air-bulk [°C]', fontsize = 20)\n",
    "plt.legend(fontsize = 20,\n",
    "             title = 'Month',\n",
    "              title_fontsize = 20,\n",
    "              markerscale = 2)\n",
    "plt.show()\n",
    "plt.show()"
   ]
  },
  {
   "cell_type": "code",
   "execution_count": 30,
   "metadata": {},
   "outputs": [],
   "source": [
    "df = allcruises[allcruises['Date'] == '2023-03-17']\n",
    "plt.figure()\n",
    "plt.scatter(df.index, df['Campbell_Air_Temperature'])\n",
    "plt.scatter(df.index, df['Thies_Temperature_3_AVG'])\n",
    "plt.show()"
   ]
  },
  {
   "cell_type": "code",
   "execution_count": null,
   "metadata": {},
   "outputs": [
    {
     "data": {
      "text/plain": [
       "'\\n2023-03-08: thies - long tail with high SML-Air, no CTD:100cm data after 12:30. Thies weird in wind, temp, rad. \\n    --> use campbell\\n2022-05-02: radiation - 1 outliers in beginning, Campbell-airtemp below watertemp, airtemp at 50cm above, check mission plan (west)\\n    --> cut start, check all thies temps\\n2022-05-10: high ctd_SML in beginning, high thies2 temp in beginning (might be right)\\n    --> 85cm for bulk?\\n2022-05-17: +- same grid twice. sml temp negative corr air temp. air 50 cm warmer than 3m, Sml warmer than 100\\n    --> check all thies temps, check precip\\n2022-08-05: funny locations, \\n2022-10-10: ctd100 befor 13 -1C off, no change in loc, precip event -> decrease all temps\\n    --> cut start\\n\\n2023-03.17: high dif water / air, air much warmer\\n'"
      ]
     },
     "execution_count": 18,
     "metadata": {},
     "output_type": "execute_result"
    }
   ],
   "source": [
    "dates_of_interest = ['2023-03-08', '2022-05-02', '2022-05-10', '2022-05-17',\n",
    "                    #   '2023-08-05', \n",
    "                      '2022-10-10']\n",
    "df_dates_of_interest = allcruises[allcruises['Date'].isin(pd.to_datetime(dates_of_interest))]\n",
    "df_normal_dates = allcruises[~allcruises['Date'].isin(pd.to_datetime(dates_of_interest))]\n",
    "\n",
    "\n",
    "'''\n",
    "2023-03-08: thies - long tail with high SML-Air, no CTD:100cm data after 12:30. Thies weird in wind, temp, rad. \n",
    "    --> use campbell\n",
    "2022-05-02: radiation - 1 outliers in beginning, Campbell-airtemp below watertemp, airtemp at 50cm above, check mission plan (west)\n",
    "    --> cut start, check all thies temps\n",
    "2022-05-10: high ctd_SML in beginning, high thies2 temp in beginning (might be right)\n",
    "    --> 85cm for bulk?\n",
    "2022-05-17: +- same grid twice. sml temp negative corr air temp. air 50 cm warmer than 3m, Sml warmer than 100\n",
    "    --> check all thies temps, check precip\n",
    "2022-08-05: funny locations, \n",
    "2022-10-10: ctd100 befor 13 -1C off, no change in loc, precip event -> decrease all temps\n",
    "    --> cut start\n",
    "\n",
    "2023-03.17: high difference between water / air temperature, air much warmer\n",
    "'''"
   ]
  },
  {
   "cell_type": "code",
   "execution_count": 19,
   "metadata": {},
   "outputs": [],
   "source": [
    "# normal dates\n",
    "# df = allcruises[allcruises['Date'] == '2022-10-10']  # plot everything or only 1 cruise\n",
    "df = df_normal_dates\n",
    "plt.figure(figsize = (12,10))\n",
    "sns.scatterplot(data=df, x = 'air-bulk', y = 'sml-bulk', hue = 'Thies_Solar_Radiation_SMP6_AVG_interp',     # hue as 'Thies_Wind_Speed_CUS_AVG_interp', 'Thies_Solar_Radiation_SMP6_AVG_interp' or 'Wind_Speed_U10', or 'Month', 'Date', ...\n",
    "                # style = 'Month',\n",
    "                  palette='inferno', s = 30,\n",
    "            zorder = 2)\n",
    "\n",
    "plt.axvline(0, color = 'black', zorder = 1)\n",
    "plt.axhline(0, color = 'black', zorder = 1)\n",
    "\n",
    "\n",
    "plt.ylabel('SML-bulk' ,fontsize = 20)\n",
    "plt.tick_params(axis='x', labelsize=20)\n",
    "plt.tick_params(axis='y', labelsize=20)\n",
    "plt.xlabel('Air-bulk', fontsize = 20)\n",
    "plt.legend(fontsize = 20,\n",
    "             title = 'Solar Radiation [W/m\\u00b2]',\n",
    "              title_fontsize = 20,\n",
    "              markerscale = 2)\n",
    "plt.show()\n",
    "\n",
    "# 08.03.\n",
    "# 02.05.\n",
    "# 10.05.\n",
    "# 17.05.\n",
    "# 05.08.\n",
    "# 10.10.\n",
    "\n",
    "# check 17.03. air"
   ]
  },
  {
   "cell_type": "code",
   "execution_count": 14,
   "metadata": {},
   "outputs": [],
   "source": [
    "# temperatures\n",
    "# temperatures = df_dates_of_interest.filter(regex = '^CTD_Temp') # or: 'CTD_Temperature_SML', 'CTD_Temperature_100cm', 'Campbell_Air_Temperature', 'Thies_Temperature_3_AVG'\n",
    "temperatures = ['CTD_Temperature_SML', 'CTD_Temperature_100cm', 'Campbell_Air_Temperature', 'Thies_Temperature_3_AVG']\n",
    "grouped = allcruises[allcruises['cruise'] == 'HE626'].groupby('Date') \n",
    " \n",
    "for date, data in grouped:\n",
    "    plt.figure(figsize=(8, 6))\n",
    "    for temp in temperatures: \n",
    "        plt.scatter(data['Date_Time'], data[temp], label=f'{temp}', alpha=0.6)\n",
    "        plt.title(f\"Temperatures for {date}\")\n",
    "        plt.xlabel('time')\n",
    "        plt.ylabel('Temperature [°C]')\n",
    "        plt.grid(True)\n",
    "        plt.legend()\n",
    "        plt.show()"
   ]
  },
  {
   "cell_type": "code",
   "execution_count": 20,
   "metadata": {},
   "outputs": [],
   "source": [
    "# solar radiation\n",
    "# radiation= df_dates_of_interest.filter(regex = 'Solar').columns.tolist() # or only net radiation: \n",
    "radiation = [ 'Solar_Radiation_Net', 'Thies_Solar_Radiation_SMP6_AVG_interp', 'Thies_Solar_Radiation_SMP6_AVG']\n",
    "grouped = df_dates_of_interest.groupby('Date')\n",
    " \n",
    "for date, data in grouped:\n",
    "    plt.figure(figsize=(8, 6))\n",
    "    for rad in radiation: \n",
    "        plt.scatter(data['Date_Time'], data[rad], label=f'{rad}', alpha=0.6)\n",
    "        plt.title(f\"Solar radiation for {date}\")\n",
    "        plt.xlabel('time')\n",
    "        plt.ylabel('radiation')\n",
    "        plt.grid(True)\n",
    "        plt.legend()\n",
    "        plt.show()\n"
   ]
  },
  {
   "cell_type": "code",
   "execution_count": 21,
   "metadata": {},
   "outputs": [],
   "source": [
    "# show all wind things\n",
    "wind = df_dates_of_interest.filter(regex = 'Wind_Direction').columns.tolist() # regex = 'Wind_Speed', or 'Wind_Direction', or only:\n",
    "# wind = ['Wind_Speed_U10', 'Thies_Wind_Speed_CUS_AVG']\n",
    "grouped = df_dates_of_interest.groupby('Date')\n",
    " \n",
    "for date, data in grouped:\n",
    "    plt.figure(figsize=(8, 6))\n",
    "    for p in wind: \n",
    "        plt.scatter(data.index, data[p], label=f'{p}', alpha=0.6)\n",
    "        plt.title(f\"wind for {date}\")\n",
    "        plt.xlabel('time')\n",
    "        plt.ylabel('windspeed or direction')\n",
    "        plt.grid(True)\n",
    "        plt.legend()\n",
    "        plt.show()"
   ]
  },
  {
   "cell_type": "code",
   "execution_count": 31,
   "metadata": {},
   "outputs": [],
   "source": [
    "# plot temperatures\n",
    "date = '2022-05-17'\n",
    "df = allcruises[allcruises['Date'] == date]\n",
    "\n",
    "plt.figure(figsize =(8,6))\n",
    "plt.scatter(df['Date_Time'], df['sml-bulk'], label = 'SML-Bulk')\n",
    "plt.scatter(df['Date_Time'], df['air-bulk'], label = 'Air-Bulk')\n",
    "plt.scatter(df['Date_Time'], df['CTD_Temperature_100cm'], label = 'CTD_100')\n",
    "plt.scatter(df['Date_Time'], df['CTD_Temperature_SML'], label = 'CTD_SML')\n",
    "plt.scatter(df['Date_Time'], df['Thies_Temperature_3_AVG'], label = 'Air')\n",
    "# plt.scatter(df['Date_Time'], df['Precipitation_Intensity'])\n",
    "\n",
    "plt.ylabel('Temperature' ,fontsize = 15)\n",
    "plt.tick_params(axis='x', labelsize=15)\n",
    "plt.tick_params(axis='y', labelsize=15)\n",
    "plt.xlabel('Time', fontsize = 15)\n",
    "plt.legend()\n",
    "plt.show()\n"
   ]
  },
  {
   "cell_type": "code",
   "execution_count": null,
   "metadata": {},
   "outputs": [],
   "source": [
    "# thies-temperatures\n",
    "thies_sensors = ['CUS', '5', '2', '4', '3']  # CUS and 5 at 200cm, 2 at 150, 4 at 100, 3 at 50\n",
    "grouped = df_dates_of_interest.groupby('Date')\n",
    " \n",
    "for date, data in grouped:\n",
    "    plt.figure(figsize=(8, 6))\n",
    "    plt.scatter(data['Date_Time'], data['Campbell_Air_Temperature'], label = 'Campbell')\n",
    "    for sensor in thies_sensors: \n",
    "        plt.scatter(data['Date_Time'], data[f'Thies_Temperature_{sensor}_AVG'], label=f'{sensor}', alpha=0.6)\n",
    "        plt.title(f\"Thies_temperatures {date}\")\n",
    "        plt.xlabel('time')\n",
    "        plt.ylabel('Temperature [°C]')\n",
    "        plt.grid(True)\n",
    "    plt.legend()\n",
    "    plt.show()"
   ]
  },
  {
   "cell_type": "code",
   "execution_count": null,
   "metadata": {},
   "outputs": [],
   "source": [
    "# Precipitation\n",
    "precips = ['Precipitation_Intensity', 'Precipitation_Amount']\n",
    "grouped = df_dates_of_interest.groupby('Date')\n",
    " \n",
    "for date, data in grouped:\n",
    "    plt.figure(figsize=(8, 6))\n",
    "    for precip in precips: \n",
    "        plt.scatter(data['Date_Time'], data[precip], label=f'{precip}', alpha=0.6)\n",
    "        plt.title(f\"Precipitation {date}\")\n",
    "        plt.xlabel('time')\n",
    "        plt.ylabel('Precipitation')\n",
    "        plt.grid(True)\n",
    "        plt.legend()\n",
    "        plt.show()"
   ]
  },
  {
   "cell_type": "code",
   "execution_count": 24,
   "metadata": {},
   "outputs": [],
   "source": [
    "# plot everything for one day\n",
    "date = '2023-03-09'\n",
    "df = allcruises[allcruises['Date'] == date]\n",
    "\n",
    "# chose what to show:\n",
    "\n",
    "# temperatures = df.filter(regex = '^CTD_Temp') # or:\n",
    "temperatures = ['CTD_Temperature_SML', 'CTD_Temperature_100cm', 'Campbell_Air_Temperature', 'Thies_Temperature_3_AVG']\n",
    "\n",
    "# radiation= df.filter(regex = 'Solar').columns.tolist() # or only net radiation: \n",
    "radiation = [ 'Solar_Radiation_Net', 'Thies_Solar_Radiation_SMP6_AVG_interp', 'Thies_Solar_Radiation_SMP6_AVG']\n",
    "\n",
    "# wind = df.filter(regex = 'Wind_Speed').columns.tolist() # regex = 'Wind_Speed', or 'Wind_Direction', or:\n",
    "wind = ['Wind_Speed_U10', 'Campbell_Wind_Speed','Thies_Wind_Speed_CUS_AVG'] \n",
    "\n",
    "precipitation = df.filter(regex = 'Precipitation')\n",
    "\n",
    "\n",
    "\n",
    "\n",
    "# where was it?\n",
    "plt.figure(figsize = (8,6))\n",
    "sns.scatterplot(data=df, x = 'air-bulk', y = 'sml-bulk', hue = 'Date',     # hue as 'Thies_Solar_Radiation_SMP6_AVG_interp' or 'Wind_Speed_U10', or 'Month', 'Date', ...\n",
    "                palette='inferno', s = 20,\n",
    "            zorder = 2)\n",
    "\n",
    "plt.axvline(0, color = 'black', zorder = 1)\n",
    "plt.axhline(0, color = 'black', zorder = 1)\n",
    "\n",
    "\n",
    "plt.ylabel('SML-bulk' ,fontsize = 15)\n",
    "plt.tick_params(axis='x', labelsize=15)\n",
    "plt.tick_params(axis='y', labelsize=15)\n",
    "plt.xlabel('Air-bulk', fontsize = 15)\n",
    "plt.show()\n",
    "\n",
    "# as time series\n",
    "plt.figure(figsize =(8,6))\n",
    "plt.scatter(df['Date_Time'], df['sml-bulk'], label = 'sml-bulk')\n",
    "plt.scatter(df['Date_Time'], df['air-bulk'], label = 'air-bulk')\n",
    "plt.ylabel('T-difference' ,fontsize = 15)\n",
    "plt.tick_params(axis='x', labelsize=15)\n",
    "plt.tick_params(axis='y', labelsize=15)\n",
    "plt.xlabel('Time', fontsize = 15)\n",
    "plt.legend()\n",
    "plt.show()\n",
    "\n",
    "# Locations \n",
    "plt.figure(figsize=(10, 6))\n",
    "sc = plt.scatter(df['Longitude'], df['Latitude'], \n",
    "                #  c = df['Date_Time'], \n",
    "                c = 'skyblue',\n",
    "                 label=f'Data for {date}', alpha=0.6)\n",
    "plt.text(df['Longitude'].min(), df['Latitude'].max(), f'Start: {df.Date_Time.dt.hour.iloc[0]}:{df.Date_Time.dt.minute.iloc[0]} UTC', color = 'red',ha='left', va='center', fontsize=20)\n",
    "plt.text(df['Longitude'].max(), df['Latitude'].max(), f'End: {df.Date_Time.dt.hour.iloc[-1]}:{df.Date_Time.dt.minute.iloc[-1]} UTC',color = 'blue', ha='right', va='center', fontsize=20)\n",
    "plt.title(f\"Mission for {date}\", fontsize = 25)\n",
    "plt.scatter(df['Longitude'].iloc[0], df['Latitude'].iloc[0], s = 100, c = 'red')\n",
    "plt.scatter(df['Longitude'].iloc[-1], df['Latitude'].iloc[-1], s = 100, c = 'blue')\n",
    "# cbar = plt.colorbar(sc)\n",
    "# cbar.set_label('CTD Temperature 30cm [°C]')\n",
    "plt.xlabel('Longitude', fontsize = 20)\n",
    "plt.ylabel('Latitude', fontsize = 20)\n",
    "plt.grid(True)\n",
    "# plt.legend()\n",
    "plt.show()\n",
    "\n",
    "# Temperature\n",
    "plt.figure(figsize=(8, 6))\n",
    "for temp in temperatures: \n",
    "    plt.scatter(df['Date_Time'], df[temp], label=f'{temp}', alpha=0.6)\n",
    "    plt.title(f\"Temperatures for {date}\")\n",
    "    plt.xlabel('time')\n",
    "    plt.ylabel('Temperature [°C]')\n",
    "    plt.grid(True)\n",
    "    plt.legend()\n",
    "    plt.show()\n",
    "\n",
    " \n",
    "# Radiation\n",
    "plt.figure(figsize=(8, 6))\n",
    "for rad in radiation: \n",
    "    plt.scatter(df['Date_Time'], df[rad], label=f'{rad}', alpha=0.6)\n",
    "    plt.title(f\"Radiation for {date}\")\n",
    "    plt.xlabel('time')\n",
    "    plt.ylabel('radiation')\n",
    "    plt.grid(True)\n",
    "    plt.legend()\n",
    "    plt.show()\n",
    "\n",
    "# Wind\n",
    "plt.figure(figsize=(8, 6))\n",
    "for p in wind: \n",
    "    plt.scatter(df['Date_Time'], df[p], label=f'{p}', alpha=0.6)\n",
    "    plt.title(f\"Wind for {date}\")\n",
    "    plt.xlabel('time')\n",
    "    plt.ylabel('windspeed or direction')\n",
    "    plt.grid(True)\n",
    "    plt.legend()\n",
    "    plt.show()\n",
    "\n",
    "# Precipitation\n",
    "plt.figure(figsize =(8,6))\n",
    "for precip in precipitation:\n",
    "    plt.scatter(df['Date_Time'], df[precip], label = f'{precip}')\n",
    "    plt.title(f\"Precipitation for {date}\")\n",
    "    plt.xlabel('time')\n",
    "    plt.ylabel('Precipitation')\n",
    "    plt.grid(True)\n",
    "    plt.legend()\n",
    "    plt.show()\n"
   ]
  },
  {
   "cell_type": "code",
   "execution_count": 32,
   "metadata": {},
   "outputs": [
    {
     "name": "stdout",
     "output_type": "stream",
     "text": [
      "no Quality flags for 2022-05-05T00:00:00.000000000\n"
     ]
    }
   ],
   "source": [
    "for date in np.unique(allcruises['Date']):\n",
    "    df = allcruises[allcruises['Date'] == date]\n",
    "    try:\n",
    "        plt.figure()\n",
    "        plt.hist(df['Quality_Thies_Temperature_5_AVG'])\n",
    "        plt.show()\n",
    "    except ValueError:\n",
    "        print(f'no Quality flags for {date}')\n",
    "\n",
    "# all quality for Thies Temperature probably good"
   ]
  },
  {
   "cell_type": "code",
   "execution_count": 26,
   "metadata": {},
   "outputs": [],
   "source": [
    "df_598_17 = allcruises[allcruises['Date'] == '2022-05-17']\n",
    "df_598_17_1 = df_598_17[df_598_17['Date_Time'] < '2022-05-17 11:00']\n",
    "df_598_17_2 = df_598_17[df_598_17['Date_Time'] > '2022-05-17 11:00']"
   ]
  },
  {
   "cell_type": "code",
   "execution_count": 19,
   "metadata": {},
   "outputs": [],
   "source": [
    " # plot all lat lons\n",
    "df = allcruises\n",
    "grouped = df.groupby('Date')\n",
    "\n",
    "for date, data in grouped:\n",
    "    plt.figure(figsize=(8, 6))\n",
    "    sc = plt.scatter(data['Longitude'], data['Latitude'],  c = data['CTD_Temperature_30cm'], label=f'Data for {date}', alpha=0.6)\n",
    "    plt.text(data['Longitude'].min(), data['Latitude'].min(), f'Start: {data.Date_Time.dt.hour.iloc[0]}:{data.Date_Time.dt.minute.iloc[0]}', color = 'red',ha='left', va='center', fontsize=20)\n",
    "    plt.text(data['Longitude'].max(), data['Latitude'].min(), f'End: {data.Date_Time.dt.hour.iloc[-1]}:{data.Date_Time.dt.minute.iloc[-1]}',color = 'blue', ha='right', va='center', fontsize=20)\n",
    "    plt.title(f\"Longitude vs Latitude for {date}\")\n",
    "    plt.scatter(data['Longitude'].iloc[0], data['Latitude'].iloc[0], s = 100, c = 'red')\n",
    "    plt.scatter(data['Longitude'].iloc[-1], data['Latitude'].iloc[-1], s = 100, c = 'blue')\n",
    "    cbar = plt.colorbar(sc)\n",
    "    cbar.set_label('CTD Temperature 30cm [°C]')\n",
    "    plt.xlabel('Longitude')\n",
    "    plt.ylabel('Latitude')\n",
    "    plt.grid(True)\n",
    "    plt.legend()\n",
    "    # plt.savefig(f\"C:/Users/piago/Documents/Uni/5_Semester/Hiwi/Plots/grid_{date}.png\")\n",
    "    plt.show()"
   ]
  },
  {
   "cell_type": "code",
   "execution_count": 49,
   "metadata": {},
   "outputs": [
    {
     "name": "stdout",
     "output_type": "stream",
     "text": [
      "Mean Windspeed 10 m\n"
     ]
    },
    {
     "data": {
      "text/plain": [
       "Date\n",
       "2022-05-02    1.870873\n",
       "2022-05-05    5.212753\n",
       "2022-05-06    5.104095\n",
       "2022-05-07    5.130642\n",
       "2022-05-09    3.994729\n",
       "2022-05-10    6.918919\n",
       "2022-05-14    5.721792\n",
       "2022-05-17    1.770685\n",
       "2022-05-18    2.521153\n",
       "2022-05-19    4.389318\n",
       "2022-05-20    2.652267\n",
       "2022-10-05    8.250623\n",
       "2022-10-10         NaN\n",
       "2022-10-12         NaN\n",
       "2022-10-14         NaN\n",
       "2022-10-17    7.682324\n",
       "2022-10-21    5.408773\n",
       "2022-10-22    8.333761\n",
       "2022-10-23    7.008002\n",
       "2023-03-02    5.119673\n",
       "2023-03-03    6.670655\n",
       "2023-03-08    3.129510\n",
       "2023-03-09    2.657068\n",
       "2023-03-10    9.028155\n",
       "2023-03-11    8.529922\n",
       "2023-03-17    3.988371\n",
       "2023-03-18    3.856098\n",
       "2023-03-19    5.402730\n",
       "2023-03-20    6.640493\n",
       "2023-07-21         NaN\n",
       "2023-07-22         NaN\n",
       "2023-07-23         NaN\n",
       "2023-07-24         NaN\n",
       "2023-07-27         NaN\n",
       "2023-07-28         NaN\n",
       "2023-07-29         NaN\n",
       "2023-08-02         NaN\n",
       "2023-08-03         NaN\n",
       "2023-08-05         NaN\n",
       "Name: Wind_Speed_U10, dtype: float64"
      ]
     },
     "execution_count": 49,
     "metadata": {},
     "output_type": "execute_result"
    }
   ],
   "source": [
    "# average wind speed each day\n",
    "print('Mean Windspeed 10 m')\n",
    "allcruises.groupby('Date')['Wind_Speed_U10'].mean()"
   ]
  },
  {
   "cell_type": "code",
   "execution_count": null,
   "metadata": {},
   "outputs": [],
   "source": [
    "# Define FFT function\n",
    "def plot_fft(signal, sampling_interval, label):\n",
    "n = len(signal)\n",
    "fft_values = fft(signal)\n",
    "fft_freq = fftfreq(n, d=sampling_interval)\n",
    "plt.plot(fft_freq[:n // 2], np.abs(fft_values)[:n // 2], label=label)"
   ]
  }
 ],
 "metadata": {
  "kernelspec": {
   "display_name": "base",
   "language": "python",
   "name": "python3"
  },
  "language_info": {
   "codemirror_mode": {
    "name": "ipython",
    "version": 3
   },
   "file_extension": ".py",
   "mimetype": "text/x-python",
   "name": "python",
   "nbconvert_exporter": "python",
   "pygments_lexer": "ipython3",
   "version": "3.12.4"
  }
 },
 "nbformat": 4,
 "nbformat_minor": 2
}
